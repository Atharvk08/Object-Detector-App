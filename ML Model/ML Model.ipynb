{
 "cells": [
  {
   "cell_type": "code",
   "execution_count": 6,
   "id": "97f94e4f",
   "metadata": {},
   "outputs": [],
   "source": [
    "COCO_INSTANCE_CATEGORY_NAMES = [\n",
    "    '__background__', 'person', 'bicycle', 'car', 'motorcycle', 'airplane', 'bus',\n",
    "    'train', 'truck', 'boat', 'traffic light', 'fire hydrant', 'N/A', 'stop sign',\n",
    "    'parking meter', 'bench', 'bird', 'cat', 'dog', 'horse', 'sheep', 'cow',\n",
    "    'elephant', 'bear', 'zebra', 'giraffe', 'N/A', 'backpack', 'umbrella', 'N/A', 'N/A',\n",
    "    'handbag', 'tie', 'suitcase', 'frisbee', 'skis', 'snowboard', 'sports ball',\n",
    "    'kite', 'baseball bat', 'baseball glove', 'skateboard', 'surfboard', 'tennis racket',\n",
    "    'bottle', 'N/A', 'wine glass', 'cup', 'fork', 'knife', 'spoon', 'bowl',\n",
    "    'banana', 'apple', 'sandwich', 'orange', 'broccoli', 'carrot', 'hot dog', 'pizza',\n",
    "    'donut', 'cake', 'chair', 'couch', 'potted plant', 'bed', 'N/A', 'dining table',\n",
    "    'N/A', 'N/A', 'toilet', 'N/A', 'tv', 'laptop', 'mouse', 'remote', 'keyboard', 'cell phone',\n",
    "    'microwave', 'oven', 'toaster', 'sink', 'refrigerator', 'N/A', 'book',\n",
    "    'clock', 'vase', 'scissors', 'teddy bear', 'hair drier', 'toothbrush'\n",
    "]"
   ]
  },
  {
   "cell_type": "code",
   "execution_count": 3,
   "id": "8a6b1b93",
   "metadata": {},
   "outputs": [
    {
     "name": "stdout",
     "output_type": "stream",
     "text": [
      "5\n"
     ]
    }
   ],
   "source": [
    "import os\n",
    "\n",
    "path=\"Images\\Images\"\n",
    "imgs = []\n",
    "valid_images = [\".jpg\",\".gif\",\".png\",\".tga\"]\n",
    "for f in os.listdir(path):\n",
    "    ext = os.path.splitext(f)[1]\n",
    "    if ext.lower() not in valid_images:\n",
    "        continue\n",
    "        \n",
    "    imgs.append(Image.open(os.path.join(path,f)))\n",
    "print(len(imgs))"
   ]
  },
  {
   "cell_type": "code",
   "execution_count": 2,
   "id": "9c5841ad",
   "metadata": {},
   "outputs": [],
   "source": [
    "from PIL import Image, ImageDraw\n",
    "from torchvision.transforms import functional as func\n",
    "import torch\n",
    "import torchvision\n"
   ]
  },
  {
   "cell_type": "code",
   "execution_count": 4,
   "id": "8cccf3fb",
   "metadata": {},
   "outputs": [
    {
     "name": "stdout",
     "output_type": "stream",
     "text": [
      "Model ready\n"
     ]
    }
   ],
   "source": [
    "\n",
    "# Run the model on GPU if it is available\n",
    "device = torch.device(\"cuda:0\" if torch.cuda.is_available() else \"cpu\")\n",
    "\n",
    "# Load a pre-trained Faster R-CNN model\n",
    "model = torchvision.models.detection.fasterrcnn_resnet50_fpn(pretrained=True)\n",
    "model.to(device)\n",
    "model.eval()\n",
    "\n",
    "print(\"Model ready\")\n"
   ]
  },
  {
   "cell_type": "code",
   "execution_count": 8,
   "id": "6d1cb747",
   "metadata": {
    "scrolled": true
   },
   "outputs": [
    {
     "name": "stdout",
     "output_type": "stream",
     "text": [
      "car : [23.652508, 60.743504, 257.53558, 155.30977]\n",
      "car : [858.0438, 998.441, 976.85394, 1074.8555]\n",
      "traffic light : [391.56683, 773.9495, 422.01013, 835.6537]\n",
      "car : [646.83203, 977.9677, 695.9789, 1006.16486]\n",
      "traffic light : [787.666, 834.0171, 814.4723, 876.2829]\n",
      "traffic light : [298.33444, 777.22516, 321.56952, 832.13403]\n",
      "car : [814.7062, 988.26825, 864.9874, 1030.57]\n",
      "car : [518.4444, 974.2075, 563.2122, 1001.3399]\n",
      "person : [790.8404, 474.8026, 1105.1324, 1282.3628]\n",
      "person : [1302.3429, 491.28067, 1421.5271, 806.267]\n",
      "person : [234.18555, 528.98254, 351.97476, 736.20593]\n",
      "chair : [1560.9095, 814.6228, 1765.3408, 1161.5782]\n",
      "car : [392.82736, 511.21063, 858.8147, 724.14294]\n",
      "motorcycle : [1.4788136, 658.27423, 222.14511, 816.0829]\n",
      "car : [975.0077, 522.4594, 1077.8353, 615.6803]\n",
      "person : [1437.1013, 600.15845, 1603.2349, 904.2796]\n",
      "car : [1238.5247, 511.14114, 1292.4199, 557.7789]\n",
      "car : [1023.14215, 487.5967, 1186.3481, 599.8272]\n",
      "person : [1467.5942, 547.0305, 1537.7488, 670.0198]\n",
      "car : [1211.8678, 516.65576, 1246.9626, 568.5329]\n",
      "person : [1532.3907, 628.86127, 1743.8098, 980.83795]\n",
      "cat : [42.88849, 26.282404, 181.96507, 248.00795]\n",
      "dog : [122.629395, 9.611699, 216.3594, 159.0]\n"
     ]
    }
   ],
   "source": [
    "\n",
    "# Choose a random subset of 100 samples to add predictions to\n",
    "# predictions_view = dataset.take(100, seed=51)\n",
    "\n",
    "# Get class list\n",
    "# classes = dataset.default_classes\n",
    "\n",
    "# Add predictions to samples\n",
    "for img in imgs:\n",
    "    # Load image\n",
    "    image = func.to_tensor(img).to(device)\n",
    "    c, h, w = image.shape\n",
    "#     img.show()\n",
    "    # Perform inference\n",
    "    preds = model([image])[0]\n",
    "    labels = preds[\"labels\"].cpu().detach().numpy()\n",
    "    scores = preds[\"scores\"].cpu().detach().numpy()\n",
    "    boxes = preds[\"boxes\"].cpu().detach().numpy()\n",
    "\n",
    "    # Convert detections to FiftyOne format\n",
    "    detections = []\n",
    "    \n",
    "    img1 = ImageDraw.Draw(img)  \n",
    "    for label, score, box in zip(labels, scores, boxes):\n",
    "        # Convert to [top-left-x, top-left-y, width, height]\n",
    "        # in relative coordinates in [0, 1] x [0, 1]\n",
    "        if score>= .9 :\n",
    "            x1, y1, x2, y2 = box\n",
    "#             rel_box = [x1 / w, y1 / h, (x2r - x1) / w, (y2 - y1) / h]\n",
    "            rel_box=[x1, y1, x2, y2]\n",
    "            name=label if len(COCO_INSTANCE_CATEGORY_NAMES)<label else COCO_INSTANCE_CATEGORY_NAMES[label]\n",
    "            print(\"{} : {}\".format( name,rel_box))\n",
    "            \n",
    "            img1.rectangle(rel_box,  outline =\"blue\")\n",
    "            \n",
    "    img.show()\n",
    "    "
   ]
  },
  {
   "cell_type": "code",
   "execution_count": 44,
   "id": "ee1ca329",
   "metadata": {},
   "outputs": [],
   "source": [
    "import pickle\n"
   ]
  },
  {
   "cell_type": "code",
   "execution_count": 45,
   "id": "e98facf9",
   "metadata": {},
   "outputs": [],
   "source": [
    "\n",
    "# Save model\n",
    "with open('mlmodel.pickle', 'wb') as f:\n",
    "    pickle.dump(model, f)"
   ]
  }
 ],
 "metadata": {
  "kernelspec": {
   "display_name": "Python 3",
   "language": "python",
   "name": "python3"
  },
  "language_info": {
   "codemirror_mode": {
    "name": "ipython",
    "version": 3
   },
   "file_extension": ".py",
   "mimetype": "text/x-python",
   "name": "python",
   "nbconvert_exporter": "python",
   "pygments_lexer": "ipython3",
   "version": "3.8.8"
  }
 },
 "nbformat": 4,
 "nbformat_minor": 5
}
